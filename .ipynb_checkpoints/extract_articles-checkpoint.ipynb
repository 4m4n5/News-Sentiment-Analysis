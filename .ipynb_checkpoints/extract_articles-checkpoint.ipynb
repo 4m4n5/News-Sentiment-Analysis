{
 "cells": [
  {
   "cell_type": "code",
   "execution_count": 1,
   "metadata": {
    "collapsed": true
   },
   "outputs": [],
   "source": [
    "# Initial imports\n",
    "\n",
    "import numpy as np\n",
    "import pandas as pd \n",
    "from pandas import DataFrame, Series\n",
    "import matplotlib.pyplot as plt\n",
    "import seaborn as sns\n",
    "from scipy import stats\n",
    "\n",
    "%matplotlib inline"
   ]
  },
  {
   "cell_type": "code",
   "execution_count": 2,
   "metadata": {
    "collapsed": false
   },
   "outputs": [],
   "source": [
    "import random\n",
    "import requests\n",
    "from bs4 import BeautifulSoup\n",
    "import datetime"
   ]
  },
  {
   "cell_type": "code",
   "execution_count": 10,
   "metadata": {
    "collapsed": false
   },
   "outputs": [],
   "source": [
    "def extract_all_articles():\n",
    "    data = DataFrame(columns=('Date', 'Day #', 'Title', 'Content'))\n",
    "    date = datetime.date(2016, 11, 7)\n",
    "    for counter in range(1, 59):\n",
    "        date = date + datetime.timedelta(days=1)\n",
    "        url = \"http://www.thehindu.com/template/widget_jsp/code_widget/archive/archiveWebDayRest.jsp?d=\" + date.isoformat()\n",
    "        soup = BeautifulSoup(requests.get(url).text)\n",
    "        num = 0\n",
    "        for link in soup.findAll('a'):\n",
    "            lt = link.text.encode('utf-8').strip().lower()\n",
    "            if ('demonetisation' in lt) or ('demonetization' in lt) or ('1000' in lt) or ('currency' in lt):\n",
    "                try:\n",
    "                    article_soup = BeautifulSoup(requests.get(link.get('href')).text)\n",
    "                    paragraphs = article_soup.find_all('p')\n",
    "                    text = \" \".join([ paragraph.text.encode('utf-8').strip() for paragraph in paragraphs])\n",
    "                    title = link.text.encode('utf-8').strip()\n",
    "                    article_data = DataFrame([[date, counter, title, text]], columns=('Date', 'Day #', 'Title', 'Content'))\n",
    "                    data = data.append(article_data, ignore_index = True)\n",
    "                except Exception as e:\n",
    "                    continue\n",
    "        data.to_csv('data.csv', encoding='utf-8')\n",
    "    return data      \n",
    "        \n",
    "        "
   ]
  },
  {
   "cell_type": "code",
   "execution_count": 13,
   "metadata": {
    "collapsed": false
   },
   "outputs": [],
   "source": [
    "d = extract_all_articles()"
   ]
  },
  {
   "cell_type": "code",
   "execution_count": 15,
   "metadata": {
    "collapsed": false
   },
   "outputs": [],
   "source": [
    "d.to_csv('data_final.csv', encoding='utf-8')"
   ]
  },
  {
   "cell_type": "code",
   "execution_count": 16,
   "metadata": {
    "collapsed": false
   },
   "outputs": [
    {
     "data": {
      "text/plain": [
       "0"
      ]
     },
     "execution_count": 16,
     "metadata": {},
     "output_type": "execute_result"
    }
   ],
   "source": [
    "import os\n",
    "os.system('play --no-show-progress --null --channels 1 synth %s sine %f' % ( 1, 1000))"
   ]
  }
 ],
 "metadata": {
  "kernelspec": {
   "display_name": "Python [Root]",
   "language": "python",
   "name": "Python [Root]"
  },
  "language_info": {
   "codemirror_mode": {
    "name": "ipython",
    "version": 2
   },
   "file_extension": ".py",
   "mimetype": "text/x-python",
   "name": "python",
   "nbconvert_exporter": "python",
   "pygments_lexer": "ipython2",
   "version": "2.7.12"
  }
 },
 "nbformat": 4,
 "nbformat_minor": 0
}
